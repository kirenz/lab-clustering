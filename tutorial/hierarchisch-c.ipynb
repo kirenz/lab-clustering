{
 "cells": [
  {
   "cell_type": "markdown",
   "metadata": {},
   "source": [
    "# Hierarchisches clustering\n"
   ]
  },
  {
   "cell_type": "code",
   "execution_count": null,
   "metadata": {
    "tags": [
     "remove-input"
    ]
   },
   "outputs": [],
   "source": [
    "from IPython.display import Image\n",
    "from IPython.core.display import SVG"
   ]
  },
  {
   "attachments": {},
   "cell_type": "markdown",
   "metadata": {},
   "source": [
    "In diesem Tutorial werden die Grundlagen der Clusteranalyse beschrieben und die hierarchische Clusteranalyse mit der Ward-Methode in Python umgesetzt.\n",
    "\n",
    "> Die Clusteranalyse ist ein exploratives Verfahren um Ähnlichkeitsstrukturen in Daten zu erkennen.  \n",
    "\n",
    "Bei den Untersuchungsobjekten einer Clusteranalyse kann es sich sowohl um Personen, Produkte oder um beliebige andere Einheiten wie Filme, Länder oder Unternehmen handeln. Durch die Anwendung der Clusteranalyse können diese Objekte anhand ihrer Eigenschaftsausprägungen zu Clustern zusammengefasst werden. Dabei soll jedes Cluster in sich möglichst gleichartig (homogen) sein und sich gleichzeitig von den anderen Clustern möglichst stark unterscheiden (heterogen).  \n",
    "\n",
    "Beispielsweise erfasst der Streaminganbieter Netflix die Sehgewohnheiten seiner Abonnenten und hat auf dieser Grundlage über 2000 Mikro-Cluster, sogenannte \"Taste Communities\", gebildet ([New York Magazine, 2018](https://www.vulture.com/2018/06/how-netflix-swallowed-tv-industry.html)). Den Mitgliedern der jeweiligen Clustern sollen anhand der jeweiligen Clusterzugehörigkeit möglichst passende Inhalte vorgeschlagen werden. Die Filme können dabei ebenfalls anhand unterschiedlicher Merkmale geclustert und im Anschluss mit aussagekräftigen Bezeichnungen versehen werden ([Netflix, 2017](https://media.netflix.com/de/press-releases/decoding-the-defenders-netflix-unveils-the-gateway-shows-that-lead-to-a-heroic-binge)):"
   ]
  },
  {
   "cell_type": "markdown",
   "metadata": {
    "tags": [
     "remove-input"
    ]
   },
   "source": [
    "![](img/netflix.png)"
   ]
  },
  {
   "cell_type": "markdown",
   "metadata": {},
   "source": [
    "## Voraussetzungen\n",
    "\n",
    "Wichtige Voraussetzungen, die bei der Durchführung der Analyse beachtet werden sollten [(Universität Zürich, 2018)](https://www.methodenberatung.uzh.ch/de/datenanalyse_spss/interdependenz/gruppierung/cluster.html):\n",
    "\n",
    "- Die Analyse kann für unterschiedliche Datentypen (kategoriale und metrische Daten) genutzt werden.\n",
    "- Fehlende Werte und Ausreißerwerte sollten vorab beseitigt werden.\n",
    "- Weisen die verwendeten Variablen große Unterschiede bezüglich ihres Wertebereichs auf (bspw. wenn eine Variable in cm und die andere in km gemessen wurde), so sollten diese auf ein einheitliches Niveau transformiert werden. Üblicherweise wird dafür die z-Transformation genutzt.\n",
    "\n",
    "Bei der Berechnung der Cluster wird nach bestimmten Regeln entschieden, wie die Objekte zu Clustern zusammengefasst werden. Das Ergebnis dieses Prozesses hängt nicht nur von der Wahl des Clustering-Algorithmus ab, sondern auch davon, wie die Distanz oder Ähnlichkeit zwischen den Objekten bestimmt wird.\n",
    "\n",
    "Zu Beginn der Clusteranalyse wird daher in Abhängigkeit von den vorliegenden Datentypen ein sogenanntes *Proximitätsmaß* gewählt.\n",
    "\n",
    "## Proximitätsmaß\n",
    "\n",
    "Mit Hilfe des Proximitätsmaßes wird die Distanz zwischen den Objekten berechnet. In Abhängigkeit von dem Skalenniveau der Variablen wird eine Distanzfunktion zur Bestimmung des Abstandes (Distanz) zweier Elemente oder eine Ähnlichkeitsfunktion zur Bestimmung der Ähnlichkeit verwendet:\n",
    "\n",
    "- Bei kategorialen (nominalen und ordinalen) Variablen werden Ähnlichkeitsmaße benutzt.\n",
    "\n",
    "- Bei metrischen Variablen werden Distanzmaße genutzt.\n",
    "\n",
    "In diesem Tutorial behandeln wir die Distanzmaße \"euklidische Distanz\" (auch $L_2$ genannt), \"quadrierte euklidische Distanz\" und die \"L1-Distanz\" (auch Manhattan-Metrik, Manhattan-Distanz, Mannheimer Metrik, Taxi- oder Cityblock-Metrik geannt).\n",
    "\n",
    "### Euklidische Distanz\n",
    "\n",
    "Mit Hilfe der euklidischen Distanz kann der Abstand zwischen zwei Punkten als gerade Linie in einem Raum berechnet werden (\"Luftliniendistanz\"). Anders formuliert ist der euklidische Abstand zweier Punkte die mit einem Lineal gemessene Länge einer Strecke, die diese zwei Punkte verbindet. Ein Distanzwert von Null bedeutet dabei, dass die Objekte einen Abstand von Null aufweisen, also identisch sind.\n",
    "\n",
    "Die Formel für die Berechnung der euklidischen Distanz für $n$ verschiedenen Variablen lautet:\n",
    "\n",
    "$$d(A,B) = \\sqrt{\\sum_{i=1}^{n}(A_i - B_i)^2}$$\n",
    "\n",
    "Die Formel kann in einem zweidimensionalen Koordinatensystem mit den beiden Variablen $X$ und $Y$ (d.h. n = 2) wie folgt visualisiert werden ([Korstanje, 2019](https://towardsdatascience.com/3-distances-that-every-data-scientist-should-know-59d864e5030a)):\n",
    "\n",
    "<p align=\"center\">\n",
    "    <img src=\"https://miro.medium.com/max/1524/1*J2bK-UKhrW1Ill5EyAxXOQ.png\" alt=\"\" width=\"400\"/>\n",
    "</p>\n",
    "\n",
    "Wie aus dem Punktediagramm entnommen werden kann, gelten für die Punkte A und B: \n",
    "\n",
    "- $x_A$ = 70\n",
    "- $x_B$ = 330\n",
    "- $y_A$ = 40\n",
    "- $y_B$ = 228\n",
    "\n",
    "Da wir in diesem Beispiel nur 2 Variablen vorliegen haben (n = 2), gilt hier ein bekannter Spezialfall der Berechnung des euklidischen Abstandes: der Satz des Pythagoras. Für die Berechnung der euklidischen Distanz werden daher lediglich die (X,Y)-Koordinaten benötigt um mit Hilfe der Formel von Pythagoras die Distanz zu berechnen:\n",
    "\n",
    "$$d(A,B) = \\sqrt{(x_A-x_B)^2 + (y_A-y_B)^2}$$\n",
    "\n",
    "$$d(A,B) = \\sqrt{(70-330)^2 + (40-228)^2}$$\n",
    "\n",
    "$$d(A,B) = \\sqrt{(-260)^2 + (-188)^2}$$\n",
    "\n",
    "$$d(A,B) = \\sqrt{(76600 + 35344) }$$\n",
    "\n",
    "$$d(A,B) = \\sqrt{(112225) }$$\n",
    "\n",
    "$$d(A,B) = 335$$\n",
    "\n",
    "### Quadrierte euklidische Distanz\n",
    "\n",
    "Anstelle der einfachen euklidischen Distanz kann auch die quadrierte euklidische Distanz als Distanzmaß genutzt werden. Dadurch werden größere Abweichungen stärker gewichtet. Die Formel der quadrierten euklidischen Distanz lautet:\n",
    "\n",
    "$$d^2(A,B) = \\sum_{i=1}^{n}(A_i - B_i)^2$$\n",
    "\n",
    "Für unser Datenbeispiel gilt daher:\n",
    "\n",
    "$$d^2(A,B) = (x_A-x_B)^2 + (y_A-y_B)^2$$\n",
    "\n",
    "$$d^2(A,B) = (70-330)^2 + (40-228)^2$$\n",
    "\n",
    "$$d^2(A,B) = 112225$$\n",
    "\n",
    "### $L_1$-Distanz\n",
    "\n",
    "Die $L_1$-Distanz (auch Manhattan-Metrik, Manhattan-Distanz, Mannheimer Metrik, Taxi- oder Cityblock-Metrik) ist eine Metrik, in der die Distanz $d$ zwischen zwei Punkten $A$ und $B$ als die Summe der absoluten Differenzen ihrer Einzelkoordinaten definiert wird. Dies ist insbesondere bei der Berechnung von geografischen Abständen relevant, bei welchen der Abstand zwischen zwei Punkten über vordefinierte Wege (bspw. Straßen in einer Stadt mit einer blockartigen Struktur wie in Manhattan oder Mannheim) zurückgelegt werden muss ([Korstanje, 2019](https://towardsdatascience.com/3-distances-that-every-data-scientist-should-know-59d864e5030a))\n",
    "\n",
    "<p align=\"center\">\n",
    "    <img src=\"https://miro.medium.com/max/1400/1*88uZae0Utf7kavhQFvMqaw.png\" alt=\"\" width=\"400\"/>\n",
    "</p>\n",
    "\n",
    "\n",
    "Wie aus der Abbildung ersichtlich wird, existieren mehrere Möglichkeiten, den Abstand zwischen den Punkten A und B zu berechnen. Wichtig ist jedoch, dass die \"Straßen\" nicht verlassen werden dürfen. D.h. es können bspw. zwei Blöcke nach oben (Norden) und dann drei Blöcke nach rechts (Osten) auf der Fahrbahn zurückgelegt werden, um von Punkt A aus Punkt B zu erreichen. Unabhängig von dem gewählten Pfad ist die Distanz aufgrund der blockartigen Struktur immer die gleiche.\n",
    "\n",
    "Allgemein lautet die Formel für die Berechnung des L1-Abstands wie folgt:\n",
    "\n",
    "$$d(A,B) = \\sum_{i} |A_i - B_i|$$\n",
    "\n",
    "In unserem Fall gilt:\n",
    "\n",
    "$$d(A,B) = |x_A - x_B| + |y_A - y_B |$$\n",
    "\n",
    "$$d(A,B) = |70 - 330| + |40 - 228 |$$\n",
    "\n",
    "$$d(A,B) = |-260 | + |-188|$$\n",
    "\n",
    "$$d(A,B) = 260 + 188$$\n",
    "\n",
    "$$d(A,B) = 448 $$\n",
    "\n",
    "## Clustering-Algorithmus\n",
    "\n",
    "Ist das Proximitätsmaß berechnet, so wird anhand eines Clustering-Algorithmus die eigentliche Gruppierung der Daten vorgenommen. In dieser Abbildung sind beispielhaft einige Clustering-Algorithmen aufgeführt ([Universität Zürich,  2018](https://www.methodenberatung.uzh.ch/de/datenanalyse_spss/interdependenz/gruppierung/cluster.html)):  \n",
    "\n",
    "<p align=\"center\">\n",
    "    <img src=\"https://www.methodenberatung.uzh.ch/dam/jcr:ffffffff-81eb-fc79-0000-000008e2c10d/Clus_Abb_04.jpg\" alt=\"Clustering-Algortihmen\" width=\"600\"/>\n",
    "</p>\n",
    "\n",
    "\n",
    "Bei den hier dargestellten Algorithmen wird zwischen **hierarchischen** und **nicht-hierarchischen** Algorithmen unterschieden. Im Rahmen dieses Tutorials werden ausschließlich hierarchische Algorithmen behandelt. Diese werden weiter in agglomerative und divisive Verfahren unterteilt.\n",
    "\n",
    "Bei **divisiven** Verfahren wird zunächst ein Cluster gebildet, welches alle Datenpunkte enthält. Dieses wird dann schrittweise in kleinere Cluster zerteilt, bis jeder Fall ein eigenes Cluster bildet. Bei **agglomerativen** Verfahren werden die Datenpunkte zuerst einzeln betrachtet (d.h. jeder Fall ist ein eigenes Cluster) und dann schrittweise zu größeren Clustern zusammengefasst. Die agglomerativen Verfahren werden in Linkage-Methoden und Varianz-Methoden unterteilt.\n",
    "\n"
   ]
  },
  {
   "cell_type": "markdown",
   "metadata": {},
   "source": [
    "### Linkage-Methoden\n",
    "\n",
    "Bei den **Linkage-Methoden** wird in jedem Schritt nach einer bestimmten Logik geprüft, welche Cluster den geringsten Abstand zueinander aufweisen. Diese Cluster werden dann zu einem neuen Cluster fusioniert. Je nach Linkage-Methode wird diese Distanz zwischen den Clustern unterschiedlich bestimmt [(Universität Zürich, 2018)](https://www.methodenberatung.uzh.ch/de/datenanalyse_spss/interdependenz/gruppierung/cluster.html):\n",
    "\n",
    "- Nächstgelegener Nachbar (engl. \"*single linkage*\"): Das Minimum aller möglichen Distanzen zwischen den Datenpunkten in Cluster 1 und jenen in Cluster 2 wird betrachtet ([Sigbert,  2011](https://de.wikipedia.org/wiki/Hierarchische_Clusteranalyse#/media/Datei:SingleLinkage.svg)):\n"
   ]
  },
  {
   "cell_type": "code",
   "execution_count": null,
   "metadata": {
    "tags": [
     "remove-input"
    ]
   },
   "outputs": [],
   "source": [
    "# NO CODE\n",
    "SVG(filename='img/SingleLinkage.svg')\n"
   ]
  },
  {
   "cell_type": "markdown",
   "metadata": {},
   "source": [
    "\n",
    "- Entferntester Nachbar (engl. \"*complete linkage*\"): Das Maximum aller möglichen Distanzen zwischen den Datenpunkten in Cluster 1 und jenen in Cluster 2 wird betrachtet ([Sigbert,  2011](https://de.wikipedia.org/wiki/Hierarchische_Clusteranalyse#/media/Datei:SingleLinkage.svg)):\n"
   ]
  },
  {
   "cell_type": "code",
   "execution_count": null,
   "metadata": {
    "tags": [
     "remove-input"
    ]
   },
   "outputs": [],
   "source": [
    "# NO CODE\n",
    "SVG(filename=\"img/CompleteLinkage.svg\")"
   ]
  },
  {
   "cell_type": "markdown",
   "metadata": {},
   "source": [
    "\n",
    "- Linkage zwischen Gruppen (engl. \"*average linkage*\"): Der Mittelwert aller möglichen Distanzen zwischen den Datenpunkten in Cluster 1 und jenen in Cluster 2 wird betrachtet ([Sigbert,  2011](https://de.wikipedia.org/wiki/Hierarchische_Clusteranalyse#/media/Datei:SingleLinkage.svg)):\n"
   ]
  },
  {
   "cell_type": "code",
   "execution_count": null,
   "metadata": {
    "tags": [
     "remove-input"
    ]
   },
   "outputs": [],
   "source": [
    "# NO CODE\n",
    "SVG(filename=\"img/AverageLinkage.svg\")"
   ]
  },
  {
   "cell_type": "markdown",
   "metadata": {},
   "source": [
    "- Other Linkage: Dies umfasst verschiedene Methoden. Beispielsweise wird die Distanz zwischen dem Median (*Median-Clustering*) von Cluster 1 und dem Median von Cluster 2 betrachtet ([Sigbert,  2011](https://de.wikipedia.org/wiki/Hierarchische_Clusteranalyse#/media/Datei:SingleLinkage.svg)):\n"
   ]
  },
  {
   "cell_type": "code",
   "execution_count": null,
   "metadata": {
    "tags": [
     "remove-input"
    ]
   },
   "outputs": [],
   "source": [
    "# NO CODE\n",
    "SVG(filename=\"img/MedianLinkage.svg\")"
   ]
  },
  {
   "cell_type": "markdown",
   "metadata": {},
   "source": [
    "### Ward-Methode\n",
    "\n",
    "Neben den Linkage-Methoden exisiteren noch weitere Methoden. Die **Ward-Methode** ist eine beliebte **Varianz-basierte-Methode**. Dabei werden die Cluster, die den kleinsten Zuwachs der totalen Varianz aufweisen, fusioniert. Die Methode ist daher eine Erweiterung der empirischen Varianz einer Variablen auf den multivariaten Fall. \n",
    "\n",
    "Formel der empirischen Varianz:  \n",
    "\n",
    "$$s^2 = \\frac{1}{n} \\sum_{i=1}^{n}(x_i - \\bar{x})^2$$\n",
    "\n",
    "Formel der totalen Varianz (Streuung eines multivariaten Datensatzes mit $p$ Variablen $X_j$):  \n",
    "\n",
    "$$T = \\frac{1}{n}\\sum_{j=1}^{p}  \\sum_{i=1}^{n}(x_{ij} - \\bar{x_j})^2$$ \n",
    "\n",
    "In den Formeln wird ersichtlich, dass $(x_i-\\bar{x})^2$ mit der bereits bekannten quadrierten euklidischen Distanz $d^2(x_i,\\bar{x})$ übereinstimmt. Es wird also für jedes Cluster die Summe der quadrierten Distanzen der Einzelfälle vom jeweiligen Cluster-Mittelwert berechnet. Diese Werte werden dann über alle Variablen $p$ aufsummiert. Im nächsten Schritt werden jeweils jene zwei Cluster fusioniert, deren Zusammenfügen die geringste Erhöhung der Gesamtsumme der quadrierten Distanzen zur Folge hat.\n",
    "\n",
    "In dieser Abbildung sind die Ergebnisse der verschiedenen Clustering-Algorithmen für unterschiedliche Datensätze exemplarisch dargestellt (Quelle: [scikit-learn](https://scikit-learn.org/stable/modules/clustering.html)):\n"
   ]
  },
  {
   "attachments": {},
   "cell_type": "markdown",
   "metadata": {
    "tags": [
     "remove-input"
    ]
   },
   "source": [
    "![](img/linkage_comparison.png)"
   ]
  },
  {
   "cell_type": "markdown",
   "metadata": {},
   "source": [
    "\n",
    "Bei den agglomerativen Verfahren führt das single linkage Verfahren in einigen Fällen zu einer sehr einseitigen Verteilung der Cluster. Die Ward Methode führt dagegen in den meisten Fällen zu einer relativ ausgeglichenen Aufteilung. Im folgenden Beispiel wird daher die Ward-Methode genutzt."
   ]
  },
  {
   "cell_type": "markdown",
   "metadata": {},
   "source": [
    "\n",
    "# Python\n",
    "\n",
    "Für die Durchführung der hierarchischen Clusteranalyse mit der Ward-Methode nutzen wir die Daten des World Happiness Reports aus dem Jahr 2020. Der World Happiness Report ist ein jährlich vom Sustainable Development Solutions Network der Vereinten Nationen veröffentlichter Bericht. Der Bericht enthält Ranglisten zur Lebenszufriedenheit in verschiedenen Ländern der Welt und Datenanalysen aus verschiedenen Perspektiven (siehe [Helliwell et al., 2020](https://worldhappiness.report)).\n",
    "\n",
    "\n",
    "## Daten\n",
    "\n",
    "Import der Daten:\n"
   ]
  },
  {
   "cell_type": "code",
   "execution_count": null,
   "metadata": {},
   "outputs": [],
   "source": [
    "import pandas as pd\n",
    "\n",
    "# CSV Datei einlesen\n",
    "df = pd.read_csv(\"https://raw.githubusercontent.com/kirenz/datasets/master/whr_20.csv\")"
   ]
  },
  {
   "cell_type": "markdown",
   "metadata": {},
   "source": [
    "In dieser Analyse nutzen wir die landesspezifischen Informationen zu der Lebenserwartung in Jahren (`healthy_life_expectancy`) und das logarithmierte Bruttoinlandsprodukt pro Einwohner (`logged_gdp_per_capita`):"
   ]
  },
  {
   "cell_type": "code",
   "execution_count": null,
   "metadata": {},
   "outputs": [],
   "source": [
    "import altair as alt\n",
    "\n",
    "alt.Chart(df).mark_circle().encode(\n",
    "      alt.X(\"___\", scale=alt.Scale(zero=False)), \n",
    "      alt.Y(\"___\", scale=alt.Scale(zero=False))\n",
    ")"
   ]
  },
  {
   "cell_type": "markdown",
   "metadata": {},
   "source": [
    "Damit die Vorgehensweise des hierarchischen Clustering-Algorithmus besser nachvollzogen werden kann, ziehen wir zufällig 20 Länder aus dem Datensatz. Um eine Reproduzierbarkeit der Ergebnisse sicherzustellen (d.h., dass immer die gleichen 20 Länder \"zufällig\" gezogen werden) nutzen wir die Funktion `random_state` mit einer belieben Zahlenfolge (in unserem Beispiel 12)."
   ]
  },
  {
   "cell_type": "code",
   "execution_count": null,
   "metadata": {},
   "outputs": [],
   "source": [
    "df = df.sample(n=___, random_state=12)"
   ]
  },
  {
   "cell_type": "markdown",
   "metadata": {},
   "source": [
    "Darstellung der Länder in einem Punktediagramm:"
   ]
  },
  {
   "cell_type": "code",
   "execution_count": null,
   "metadata": {},
   "outputs": [],
   "source": [
    "alt.Chart(df).mark_circle(size=100).encode(\n",
    "    x=alt.X('logged_gdp_per_capita', title='Bruttoinlandsprodukt pro Einwohner (logarithmiert)', scale=alt.Scale(zero=False)),\n",
    "    y=alt.Y('healthy_life_expectancy', title='Lebenserwartung in Jahren', scale=alt.Scale(zero=False)),\n",
    "    color=alt.Color('country_name', legend=alt.Legend(title='Country Name'), scale=alt.Scale(scheme='viridis')),\n",
    "    tooltip=['country_name']\n",
    ").properties(\n",
    "    title='Lebenszufriedenheit (2020)',\n",
    "    width=400,\n",
    "    height=300\n",
    ")\n"
   ]
  },
  {
   "cell_type": "markdown",
   "metadata": {},
   "source": [
    "## Datenvorbereitung\n",
    "\n",
    "Wir erzeugen einen neuen Datensatz `df_cl`, in welchem nur die Variablen enthalten sind, die für die Clusteranalyse genutzt werden sollen. Zusätzlich nutzen wir die Variable `country_name`, um in einem späteren Schritt die Daten sinnvoll beschriften zu können."
   ]
  },
  {
   "cell_type": "code",
   "execution_count": null,
   "metadata": {},
   "outputs": [],
   "source": [
    "df_cl = df[[\"country_name\", \"logged_gdp_per_capita\", \"healthy_life_expectancy\"]]"
   ]
  },
  {
   "cell_type": "markdown",
   "metadata": {},
   "source": [
    "### Fehlende Werte\n",
    "\n",
    "Wir prüfen, ob in den Daten fehlende Werte vorliegen:"
   ]
  },
  {
   "cell_type": "code",
   "execution_count": null,
   "metadata": {},
   "outputs": [],
   "source": [
    "df_cl.isnull().sum(axis=0)"
   ]
  },
  {
   "cell_type": "markdown",
   "metadata": {},
   "source": [
    "In diesem Datensatz liegen keine fehlenden Werte vor. Falls dies in einem anderen Projekt jedoch der Fall sein sollte, könnten wir diese fehlenden Werte mit dem Befehl `dropna(axis=0)` entfernen, wobei sich `axis=0` auf die Zeilen des dataframes bezieht:"
   ]
  },
  {
   "cell_type": "code",
   "execution_count": null,
   "metadata": {},
   "outputs": [],
   "source": [
    "df_cl = df_cl.___(axis=0)"
   ]
  },
  {
   "cell_type": "markdown",
   "metadata": {},
   "source": [
    "### Standardisierung\n",
    "\n",
    "Damit die Werte der Variablen in einem einheitlichen Werteintervall vorliegen, nutzen wir für die Standardisierung der Daten die z-Transformation. Mit Hilfe dieser Standardisierung wird der Mittelwert auf 0 und die Standardabweichung der Variablen auf 1 gesetzt. Die Formel dafür lautet:\n",
    "\n",
    "$$z = \\frac{x - \\bar{x}}{s}$$ \n",
    "\n",
    "* $\\bar{x}$: Mittelwert der Daten\n",
    "* $s$: Standardabweichung der Daten \n",
    "\n",
    "Wir führen die Standardisierung für unsere numerischen Variablen mit Hilfe des `StandardScaler()` durch. Dafür erstellen wir zunächst eine Kopie des Datensatzes und nennen diese `df_cl_z`: "
   ]
  },
  {
   "cell_type": "code",
   "execution_count": null,
   "metadata": {},
   "outputs": [],
   "source": [
    "df_cl_z = df_cl.copy()\n",
    "features = [\"logged_gdp_per_capita\",\"healthy_life_expectancy\"]"
   ]
  },
  {
   "cell_type": "code",
   "execution_count": null,
   "metadata": {},
   "outputs": [],
   "source": [
    "from sklearn.preprocessing import StandardScaler\n",
    "\n",
    "scaler = ___()\n"
   ]
  },
  {
   "cell_type": "code",
   "execution_count": null,
   "metadata": {},
   "outputs": [],
   "source": [
    "# mit fit_transform standardisierung anwenden (nur auf features)\n",
    "df_cl_z[___] = scaler.___(df_cl_z[___])\n"
   ]
  },
  {
   "cell_type": "code",
   "execution_count": null,
   "metadata": {},
   "outputs": [],
   "source": [
    "df_cl_z.head()"
   ]
  },
  {
   "cell_type": "markdown",
   "metadata": {},
   "source": [
    "Wie in der Abbildung nachvollzogen werden kann, ändert sich nicht die Position der Länder, sondern lediglich die Einheiten auf der X- und Y-Achse:"
   ]
  },
  {
   "cell_type": "code",
   "execution_count": null,
   "metadata": {},
   "outputs": [],
   "source": [
    "chart = alt.Chart(df_cl_z).mark_circle(size=100).encode(\n",
    "    x=alt.X('logged_gdp_per_capita', title='Bruttoinlandsprodukt pro Einwohner (logarithmiert)', scale=alt.Scale(zero=False)),\n",
    "    y=alt.Y('healthy_life_expectancy', title='Lebenserwartung in Jahren', scale=alt.Scale(zero=False)),\n",
    "    tooltip=['logged_gdp_per_capita', 'healthy_life_expectancy' ]\n",
    ").properties(\n",
    "    title='Lebenszufriedenheit (2020)',\n",
    "    width=600,\n",
    "    height=400\n",
    ")\n",
    "\n",
    "\n",
    "chart"
   ]
  },
  {
   "cell_type": "markdown",
   "metadata": {},
   "source": [
    "Da wir die Variable `country_name` nicht mit in die Berechnung einbeziehen möchten, verwenden wir diese als Index:"
   ]
  },
  {
   "cell_type": "code",
   "execution_count": null,
   "metadata": {},
   "outputs": [],
   "source": [
    "df_cl_z = df_cl_z.set_index('country_name')"
   ]
  },
  {
   "cell_type": "code",
   "execution_count": null,
   "metadata": {},
   "outputs": [],
   "source": [
    "df_cl_z.index.name = None"
   ]
  },
  {
   "cell_type": "code",
   "execution_count": null,
   "metadata": {},
   "outputs": [],
   "source": [
    "\n",
    "df_cl_z.head()"
   ]
  },
  {
   "cell_type": "markdown",
   "metadata": {},
   "source": [
    "## Dendrogramm\n",
    "\n",
    "Wir beginnen unsere Cluster-Analyse mit der Erstellung eines Dendrogramms, mit dessen Hilfe die Vorgehensweise bei der Erstellung der Cluster dargestellt werden kann. Die Abbbildung ist uns insbesondere bei der Bestimmmung der optimalen Clusteranazahl behilflich, da die Anzahl nicht von dem Cluster-Algorithmus bestimmt wird.  \n",
    "\n",
    "Das Dendrogramm liest sich in unserem Beispiel von links nach rechts und beschreibt in diese Richtung den Prozess des Clusterings:\n",
    "\n",
    "-  Die horizontale Achse beschreibt die Heterogenität der Cluster.\n",
    "-  Auf der linken Seite des Dendrogramms sind alle Länder aufgelistet. \n",
    "-  Zunächst entspricht also jedes Land einem einzelnen Cluster, was sich daran zeigt, dass jeder Fall eine eigene horizontale Linie aufweist.\n",
    "-  Diese Cluster werden in der Folge von links nach rechts sukzessive zu größeren Clustern zusammengefügt. \n",
    "-  Dabei werden zu Beginn der agglomerativen Clusterbildung diejenigen Länder fusioniert, welche die geringste Distanz zueinander aufweisen.\n",
    "-  Die vertikalen Linien zeigen an, dass zwei Cluster fusioniert werden. \n",
    "-  In unserem Beispiel sind sich die Länder \"Indonesia\" und \"Monolia\" am ähnlichsten.\n",
    "-  Je größer die horizontale Distanz bis zur Clusterbildung, desto heterogener die entsprechenden Fälle bzw. Cluster. \n",
    "-  Am rechten Ende der Abbildung bilden schließlich alle Länder ein gemeinsames Cluster. \n",
    "\n",
    "Die **\"optimale\" Anzahl der Cluster** sollte insbesondere anhand inhalticher Interpretationen in Hinblick einer größtmöglichen Plausibilität der gebildeten Cluster geschehen. Zusätzlich kann der größte (bzw. ein großer) Zuwachs der Heterogenität in dem Dendrogramm als Entscheidungskriterium genutzt werden. Bei unseren Daten entsteht der größte Heterogenitätszuwachs zwischen einer 2-Cluster und 1-Cluster-Lösung. Der Heterogenitätszuwachs zwischen einer 4-Cluster und 2-Cluster-Lösung ist ebenfalls relativ groß. Wir entscheiden uns hier für eine Clusteranzahl von 4, hätten jedoch auch die 2-Cluster-Lösung wählen können. Wie bereits erwähnt existiert bei diesem Verfahren oftmals keine eindeutige \"optimale\" Lösung, da jeweils auch die Interpretiertbarkeit der Cluster auf Grundlage inhaltlicher Überlegungen eine wichtige Rolle spielt."
   ]
  },
  {
   "cell_type": "code",
   "execution_count": null,
   "metadata": {},
   "outputs": [],
   "source": [
    "from scipy.cluster import hierarchy\n",
    "\n",
    "\n",
    "Z = hierarchy.linkage(df_cl_z, 'ward')\n",
    "dn = hierarchy.dendrogram(Z, labels=df_cl_z.index, orientation='right')"
   ]
  },
  {
   "cell_type": "markdown",
   "metadata": {},
   "source": [
    "## Algorithmus\n",
    "\n",
    "Im nächsten Schritt wird die hierarchische Clusteranalyse angewendet. Dafür nutzen wir die Funktion `AgglomerativeClustering` mit dem Verfahren `ward`, der euklidischen Distanz (`euclidian`) als Proximitätsmaß. Die Anzahl der zu erstellenden Cluster setzen wir hier auf 4. Im Anschluss nutzen wir die Funktion `fit_predict` "
   ]
  },
  {
   "cell_type": "code",
   "execution_count": null,
   "metadata": {},
   "outputs": [],
   "source": [
    "from sklearn.cluster import AgglomerativeClustering\n",
    "\n",
    "clustering = ___(linkage='___', n_clusters=___)\n"
   ]
  },
  {
   "cell_type": "code",
   "execution_count": null,
   "metadata": {},
   "outputs": [],
   "source": [
    "# mit fit_predict cluster bestimmen\n",
    "___.___(___)"
   ]
  },
  {
   "cell_type": "code",
   "execution_count": null,
   "metadata": {},
   "outputs": [],
   "source": [
    "# cluster ausgeben mit .labels_\n",
    "clustering.___"
   ]
  },
  {
   "cell_type": "markdown",
   "metadata": {},
   "source": [
    "Wir übergeben die Ergebnisse in den Datensatz `df_cl` (da wir im Anschluss nicht mit den z-standardisierten Werten arbeiten möchten)"
   ]
  },
  {
   "cell_type": "code",
   "execution_count": null,
   "metadata": {},
   "outputs": [],
   "source": [
    "df_cl[\"___\"] = ___.___"
   ]
  },
  {
   "cell_type": "code",
   "execution_count": null,
   "metadata": {},
   "outputs": [],
   "source": [
    "\n",
    "df_cl.head()"
   ]
  },
  {
   "cell_type": "markdown",
   "metadata": {},
   "source": [
    "## Visualisierung\n",
    "\n",
    "In der letzten Abbildung werden die Cluster dargestellt: \n",
    "\n",
    "- In der unteren linken Ecke sind Länder mit dem geringsten Bruttoinlandsprodukt pro Einwohner und einer sehr geringen Lebenserwartung aufgeführt. \n",
    "- In der oberen rechten Ecke die Länder mit dem höchsten Bruttoinlandsprodukt pro Einwohner und einer sehr hohen Lebenserwartung. "
   ]
  },
  {
   "cell_type": "code",
   "execution_count": null,
   "metadata": {},
   "outputs": [],
   "source": [
    "import altair as alt\n",
    "\n",
    "alt.themes.enable('opaque')\n",
    "\n",
    "alt.Chart(df_cl).mark_circle(size=100).encode(\n",
    "    x=alt.X('logged_gdp_per_capita', title='Bruttoinlandsprodukt pro Einwohner (logarithmiert)'),\n",
    "    y=alt.Y('healthy_life_expectancy', title='Lebenserwartung in Jahren'),\n",
    "    color=alt.Color('cluster:O', legend=alt.Legend(title='Cluster'), scale=alt.Scale(scheme='viridis')),\n",
    "    tooltip=['cluster']\n",
    ").properties(\n",
    "    title='Lebenszufriedenheit (2020)'\n",
    ")\n"
   ]
  }
 ],
 "metadata": {
  "interpreter": {
   "hash": "d361e8bd3ab8be8f3ea65790adb41c2b64f49b1477d0d1af835155fecf213182"
  },
  "kernelspec": {
   "display_name": "Python 3.8.2 64-bit ('base': conda)",
   "name": "python3"
  },
  "language_info": {
   "codemirror_mode": {
    "name": "ipython",
    "version": 3
   },
   "file_extension": ".py",
   "mimetype": "text/x-python",
   "name": "python",
   "nbconvert_exporter": "python",
   "pygments_lexer": "ipython3",
   "version": "3.10.10"
  }
 },
 "nbformat": 4,
 "nbformat_minor": 2
}
